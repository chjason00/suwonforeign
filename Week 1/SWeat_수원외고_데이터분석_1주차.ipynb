{
 "cells": [
  {
   "cell_type": "markdown",
   "id": "e2dd0aac",
   "metadata": {},
   "source": [
    "# SWeat 수원외고 1주차 강의노트 (25.08.21)\n",
    "\n",
    "SWeat 수원외고 1주차에 배운 예제를 실습해봅시다."
   ]
  },
  {
   "cell_type": "markdown",
   "id": "c38d212b",
   "metadata": {},
   "source": [
    "## 0. 실습 준비"
   ]
  },
  {
   "cell_type": "code",
   "execution_count": null,
   "id": "52d14ef4",
   "metadata": {},
   "outputs": [],
   "source": [
    "# 이 코드는 최초 한 번만 실행해주면 됩니다.\n",
    "!pip install numpy pandas matplotlib"
   ]
  },
  {
   "cell_type": "code",
   "execution_count": null,
   "id": "3caa3598",
   "metadata": {},
   "outputs": [
    {
     "data": {
      "text/plain": [
       "'1.26.4'"
      ]
     },
     "execution_count": 2,
     "metadata": {},
     "output_type": "execute_result"
    }
   ],
   "source": [
    "import numpy as np\n",
    "np.__version__"
   ]
  },
  {
   "cell_type": "code",
   "execution_count": 29,
   "id": "89bf482f",
   "metadata": {},
   "outputs": [
    {
     "data": {
      "text/plain": [
       "'2.2.2'"
      ]
     },
     "execution_count": 29,
     "metadata": {},
     "output_type": "execute_result"
    }
   ],
   "source": [
    "import pandas as pd\n",
    "pd.__version__"
   ]
  },
  {
   "cell_type": "markdown",
   "id": "d33924f5",
   "metadata": {},
   "source": [
    "## 1. Numpy 기초\n",
    "\n",
    "Numpy는 리스트와 비슷하면서도, 숫자 데이터들을 훨씬 빠르고 효율적으로 처리할 수 있게 해주는 도구입니다. 특히 각종 통계처리, 연산 등에서 매우 유용하게 사용할 수 있습니다."
   ]
  },
  {
   "cell_type": "markdown",
   "id": "3a28fc3f",
   "metadata": {},
   "source": [
    "### 1. NumPy 배열 생성"
   ]
  },
  {
   "cell_type": "code",
   "execution_count": null,
   "id": "4310ad1f",
   "metadata": {},
   "outputs": [
    {
     "data": {
      "text/plain": [
       "array([1, 2, 3])"
      ]
     },
     "execution_count": 5,
     "metadata": {},
     "output_type": "execute_result"
    }
   ],
   "source": [
    "# 기본 배열 생성\n",
    "A = np.array([1, 2, 3])\n",
    "\n",
    "A        # Jupyter Notebook에서는 맨 아래줄에 변수 이름만 써주면, print가 없어도 그 변수의 내용을 출력해줍니다."
   ]
  },
  {
   "cell_type": "code",
   "execution_count": null,
   "id": "88a284df",
   "metadata": {},
   "outputs": [
    {
     "data": {
      "text/plain": [
       "(2, 3)"
      ]
     },
     "execution_count": 7,
     "metadata": {},
     "output_type": "execute_result"
    }
   ],
   "source": [
    "# 다차원 배열 생성\n",
    "B = np.array([[1, 2, 3], [4, 5, 6]])\n",
    "C = np.array([[[1, 2], [3, 4]], [[5, 6], [7, 8]]])\n",
    "\n",
    "B.shape   # .shape를 변수 뒤에 붙여주면 행과 열을 튜플 형태로 표시해줍니다. (2, 3)이면 행 2개, 열 3개로 구성된 array 변수입니다. "
   ]
  },
  {
   "cell_type": "markdown",
   "id": "57956742",
   "metadata": {},
   "source": [
    "### 2. NumPy 배열 연산"
   ]
  },
  {
   "cell_type": "code",
   "execution_count": 10,
   "id": "a75029c6",
   "metadata": {},
   "outputs": [
    {
     "name": "stdout",
     "output_type": "stream",
     "text": [
      "A: [10 20 30]\n",
      "B: [2 4 3]\n",
      "A + B = [12 24 33]\n",
      "A - B = [ 8 16 27]\n",
      "A * B = [20 80 90]\n",
      "A / B = [ 5.  5. 10.]\n",
      "A @ B = 190\n",
      "최솟값: 10\n",
      "최댓값: 30\n",
      "합계: 60\n",
      "평균: 20.0\n"
     ]
    }
   ],
   "source": [
    "A = np.array([10, 20, 30])\n",
    "B = np.array([2, 4, 3])\n",
    "\n",
    "print(\"A:\", A)\n",
    "print(\"B:\", B)\n",
    "\n",
    "print(\"A + B =\", A + B)\n",
    "print(\"A - B =\", A - B)\n",
    "print(\"A * B =\", A * B)     # 벡터의 같은 위치의 원소끼리 곱해줍니다.\n",
    "print(\"A / B =\", A / B)\n",
    "print(\"A @ B =\", A @ B)     # 행렬곱으로, (10 * 2) + (20 * 4) + (30 * 3)과 같습니다.\n",
    "\n",
    "print(\"최솟값:\", A.min())\n",
    "print(\"최댓값:\", A.max())\n",
    "print(\"합계:\", A.sum())\n",
    "print(\"평균:\", A.mean())"
   ]
  },
  {
   "cell_type": "markdown",
   "id": "e94ed03f",
   "metadata": {},
   "source": [
    "### 3. NumPy 인덱싱과 슬라이싱"
   ]
  },
  {
   "cell_type": "code",
   "execution_count": null,
   "id": "0a34563b",
   "metadata": {},
   "outputs": [
    {
     "name": "stdout",
     "output_type": "stream",
     "text": [
      "C 전체:\n",
      " [[1 2 3]\n",
      " [4 5 6]]\n",
      "첫 번째 행: [1 2 3]\n",
      "두 번째 행: [4 5 6]\n",
      "첫 번째 열: [1 4]\n",
      "2~3열: [[2 3]\n",
      " [5 6]]\n"
     ]
    }
   ],
   "source": [
    "# 전반적으로 파이썬의 리스트와 거의 동일합니다.\n",
    "# [1:4]면, 마지막 4를 제외한 1,2,3만 포함되는거 기억나시나요?\n",
    "\n",
    "C = np.array([[1, 2, 3], [4, 5, 6]])\n",
    "\n",
    "print(\"C 전체:\\n\", C)\n",
    "print(\"첫 번째 행:\", C[0])\n",
    "print(\"두 번째 행:\", C[1])\n",
    "print(\"첫 번째 열:\", C[:,0])       # [:,0]에서 앞에 :는 모든 행에서, 뒤에 0은 0번째 열만 뽑아낸다고 생각하면 돼요.\n",
    "print(\"2~3열:\", C[:,1:3])        # [:, 1:3]에서 앞에 있는 :는 모든 행에서, 뒤에 1:3은 1,2번 열만 뽑아낸다고 생각하면 돼요.\n"
   ]
  },
  {
   "cell_type": "markdown",
   "id": "67795f8f",
   "metadata": {},
   "source": [
    "### 4. 다양한 NumPy 함수"
   ]
  },
  {
   "cell_type": "code",
   "execution_count": null,
   "id": "1b75d89f",
   "metadata": {},
   "outputs": [
    {
     "name": "stdout",
     "output_type": "stream",
     "text": [
      "0~10까지 간격 2씩 만든 배열 :  [0 2 4 6 8]\n",
      "0~10까지 4개의 간격으로 만든 배열 :  [ 0.  4.  8. 12.]\n",
      "2*2 행렬 만들고 0으로 모두 채우기 :\n",
      " [[0. 0.]\n",
      " [0. 0.]]\n",
      "2*3 행렬 만들고 1로 모두 채우기 :\n",
      " [[1. 1. 1.]\n",
      " [1. 1. 1.]]\n",
      "2*4 행렬 만들고 0~1 랜덤값으로 채우기 :\n",
      " [[0.91828245 0.95393677 0.98706775 0.21920695]\n",
      " [0.371016   0.13259053 0.12270788 0.20029741]]\n",
      "표준정규분포에서 10개를 추출한 행렬 만들기 [-1.31254056 -0.38678239 -0.36408176 -0.16421758 -0.48440064  0.86514466\n",
      " -0.46895504 -1.69992603 -0.32941465  0.98212558]\n"
     ]
    }
   ],
   "source": [
    "# 절대 다 외울 필요 없어요! 쓰다가 모르는건 그때그때 찾아서 쓰고, 이런게 있다만 알고 넘어가도 충분합니다.\n",
    "\n",
    "# 일정 간격 배열 만들기\n",
    "print(\"0~10까지 간격 2씩 만든 배열 : \", np.arange(0, 10, 2))\n",
    "print(\"0~10까지 4개의 간격으로 만든 배열 : \", np.linspace(0, 12, 4))\n",
    "\n",
    "# 0과 1로 채운 배열\n",
    "print(\"2*2 행렬 만들고 0으로 모두 채우기 :\\n\", np.zeros((2,2)))\n",
    "print(\"2*3 행렬 만들고 1로 모두 채우기 :\\n\", np.ones((2,3)))\n",
    "\n",
    "# 난수 배열\n",
    "print(\"2*4 행렬 만들고 0~1 랜덤값으로 채우기 :\\n\", np.random.random((2,4)))\n",
    "\n",
    "# 표준정규분포 난수\n",
    "print(\"표준정규분포에서 10개를 추출한 행렬 만들기\", np.random.randn(10))\n"
   ]
  },
  {
   "cell_type": "markdown",
   "id": "daf61b0e",
   "metadata": {},
   "source": [
    "## 2. Pandas 기초\n",
    "\n",
    "Numpy는 숫자 데이터를 담은 행렬을 다루는 라이브러리였다면, Pandas는 마치 엑셀같이 DataFrame이라는 자료형의 표 데이터를 다루는 라이브러리입니다. 각종 데이터 정제 및 표현은 물론, 통계적 연산과 필터링 등 강력한 기능들을 효율적으로 실행할 수 있습니다."
   ]
  },
  {
   "cell_type": "code",
   "execution_count": 33,
   "id": "ca2d8d2d",
   "metadata": {},
   "outputs": [
    {
     "name": "stdout",
     "output_type": "stream",
     "text": [
      "<class 'pandas.core.frame.DataFrame'>\n"
     ]
    },
    {
     "data": {
      "application/vnd.microsoft.datawrangler.viewer.v0+json": {
       "columns": [
        {
         "name": "index",
         "rawType": "int64",
         "type": "integer"
        },
        {
         "name": "이름",
         "rawType": "object",
         "type": "string"
        },
        {
         "name": "성별",
         "rawType": "object",
         "type": "string"
        },
        {
         "name": "생일",
         "rawType": "object",
         "type": "string"
        },
        {
         "name": "종류",
         "rawType": "object",
         "type": "string"
        },
        {
         "name": "성격",
         "rawType": "object",
         "type": "string"
        },
        {
         "name": "일어나는 시각",
         "rawType": "object",
         "type": "unknown"
        },
        {
         "name": "잠드는 시각",
         "rawType": "object",
         "type": "unknown"
        },
        {
         "name": "자금",
         "rawType": "int64",
         "type": "integer"
        },
        {
         "name": "가구 수",
         "rawType": "int64",
         "type": "integer"
        }
       ],
       "ref": "bbd6f05d-6a6c-4014-9fbd-49fddcccc49f",
       "rows": [
        [
         "0",
         "럭키",
         "남",
         "11월 04일",
         "개",
         "먹보",
         "8:00",
         "23:00",
         "5575",
         "2"
        ],
        [
         "1",
         "로빈",
         "남",
         "05월 13일",
         "개",
         "먹보",
         "8:00",
         "23:00",
         "2703",
         "5"
        ],
        [
         "2",
         "존",
         "남",
         "11월 01일",
         "개",
         "무뚝뚝",
         "9:00",
         "3:30",
         "9850",
         "1"
        ],
        [
         "3",
         "토미",
         "남",
         "08월 04일",
         "개",
         "먹보",
         "8:00",
         "23:00",
         "3665",
         "2"
        ],
        [
         "4",
         "벤",
         "남",
         "06월 10일",
         "개",
         "먹보",
         "8:00",
         "23:00",
         "6994",
         "3"
        ],
        [
         "5",
         "샹펜",
         "남",
         "10월 30일",
         "개",
         "무뚝뚝",
         "9:00",
         "3:30",
         "9988",
         "4"
        ],
        [
         "6",
         "에드워드",
         "남",
         "12월 31일",
         "개",
         "먹보",
         "8:00",
         "23:00",
         "4205",
         "9"
        ],
        [
         "7",
         "챔프",
         "남",
         "11월 11일",
         "개",
         "운동광",
         "6:30",
         "0:30",
         "1581",
         "3"
        ],
        [
         "8",
         "땡칠이",
         "남",
         "08월 03일",
         "개",
         "먹보",
         "8:00",
         "23:00",
         "7985",
         "5"
        ],
        [
         "9",
         "밥",
         "남",
         "11월 24일",
         "개",
         "느끼함",
         "7:00",
         "2:00",
         "9737",
         "10"
        ],
        [
         "10",
         "바닐라",
         "여",
         "11월 16일",
         "개",
         "친절함",
         "6:00",
         "0:00",
         "1079",
         "3"
        ],
        [
         "11",
         "카라멜",
         "여",
         "12월 27일",
         "개",
         "친절함",
         "6:00",
         "0:00",
         "5924",
         "9"
        ],
        [
         "12",
         "블랜더",
         "여",
         "10월 25일",
         "개",
         "성숙함",
         "8:30",
         "2:30",
         "2305",
         "5"
        ],
        [
         "13",
         "베리",
         "여",
         "06월 18일",
         "개",
         "아이돌",
         "7:30",
         "1:30",
         "4701",
         "10"
        ],
        [
         "14",
         "마롱",
         "여",
         "01월 11일",
         "개",
         "아이돌",
         "7:30",
         "1:30",
         "5491",
         "6"
        ],
        [
         "15",
         "베이글",
         "여",
         "10월 15일",
         "개",
         "친절함",
         "6:00",
         "0:00",
         "3303",
         "4"
        ],
        [
         "16",
         "한나",
         "여",
         "05월 11일",
         "개",
         "단순활발",
         "9:30",
         "3:30",
         "6937",
         "7"
        ],
        [
         "17",
         "드리미",
         "남",
         "07월 08일",
         "개구리",
         "먹보",
         "8:00",
         "23:00",
         "7173",
         "5"
        ],
        [
         "18",
         "철컥",
         "남",
         "02월 13일",
         "개구리",
         "운동광",
         "6:30",
         "0:30",
         "2657",
         "2"
        ],
        [
         "19",
         "샘",
         "남",
         "08월 21일",
         "개구리",
         "무뚝뚝",
         "9:00",
         "3:30",
         "6712",
         "10"
        ],
        [
         "20",
         "충성",
         "남",
         "06월 05일",
         "개구리",
         "무뚝뚝",
         "9:00",
         "3:30",
         "7177",
         "3"
        ],
        [
         "21",
         "왕서방",
         "남",
         "12월 17일",
         "개구리",
         "운동광",
         "6:30",
         "0:30",
         "9125",
         "8"
        ],
        [
         "22",
         "카일",
         "남",
         "07월 21일",
         "개구리",
         "먹보",
         "8:00",
         "23:00",
         "8045",
         "1"
        ],
        [
         "23",
         "스트로",
         "남",
         "07월 09일",
         "개구리",
         "먹보/느끼함",
         null,
         null,
         "9103",
         "8"
        ],
        [
         "24",
         "텀보",
         "남",
         "08월 03일",
         "개구리",
         "운동광",
         "6:30",
         "0:30",
         "1768",
         "9"
        ],
        [
         "25",
         "덕",
         "남",
         "10월 09일",
         "개구리",
         "운동광",
         "6:30",
         "0:30",
         "8230",
         "7"
        ],
        [
         "26",
         "구리구리",
         "남",
         "02월 08일",
         "개구리",
         "운동광",
         "6:30",
         "0:30",
         "8312",
         "4"
        ],
        [
         "27",
         "개군",
         "남",
         "06월 06일",
         "개구리",
         "먹보",
         "8:00",
         "23:00",
         "7745",
         "3"
        ],
        [
         "28",
         "헨리",
         "남",
         "09월 21일",
         "개구리",
         "느끼함",
         "7:00",
         "2:00",
         "7982",
         "8"
        ],
        [
         "29",
         "투투",
         "남",
         "07월 18일",
         "개구리",
         "무뚝뚝",
         "9:00",
         "3:30",
         "9981",
         "2"
        ],
        [
         "30",
         "레이니",
         "여",
         "02월 04일",
         "개구리",
         "친절함",
         "6:00",
         "0:00",
         "4337",
         "8"
        ],
        [
         "31",
         "가위",
         "여",
         "01월 13일",
         "개구리",
         "아이돌",
         "7:30",
         "1:30",
         "1934",
         "2"
        ],
        [
         "32",
         "에스메랄다",
         "여",
         "10월 27일",
         "개구리",
         "친절함",
         "6:00",
         "0:00",
         "9059",
         "2"
        ],
        [
         "33",
         "린다",
         "여",
         "08월 11일",
         "개구리",
         "성숙함",
         "8:30",
         "2:30",
         "9465",
         "10"
        ],
        [
         "34",
         "아이다",
         "여",
         "10월 02일",
         "개구리",
         "단순활발",
         "9:30",
         "3:30",
         "5312",
         "9"
        ],
        [
         "35",
         "사지마",
         "남",
         "03월 09일",
         "개미핥기",
         "무뚝뚝",
         "9:00",
         "3:30",
         "5742",
         "7"
        ],
        [
         "36",
         "퍼머거",
         "남",
         "10월 20일",
         "개미핥기",
         "운동광",
         "6:30",
         "0:30",
         "4866",
         "7"
        ],
        [
         "37",
         "안토니오",
         "남",
         "05월 19일",
         "개미핥기",
         "느끼함",
         "7:00",
         "2:00",
         "7885",
         "2"
        ],
        [
         "38",
         "패트라",
         "여",
         "11월 09일",
         "개미핥기",
         "아이돌",
         "7:30",
         "1:30",
         "5730",
         "6"
        ],
        [
         "39",
         "스누티",
         "여",
         "10월 24일",
         "개미핥기",
         "성숙함",
         "8:30",
         "2:30",
         "7638",
         "4"
        ],
        [
         "40",
         "소면",
         "여",
         "02월 10일",
         "개미핥기",
         "친절함",
         "6:00",
         "0:00",
         "9520",
         "4"
        ],
        [
         "41",
         "아롱이",
         "여",
         "02월 16일",
         "개미핥기",
         "아이돌",
         "7:30",
         "1:30",
         "6058",
         "4"
        ],
        [
         "42",
         "설백",
         "여",
         "02월 06일",
         "개미핥기",
         "친절함",
         "6:00",
         "0:00",
         "6911",
         "7"
        ],
        [
         "43",
         "덤벨",
         "남",
         "09월 11일",
         "고릴라",
         "무뚝뚝",
         "9:00",
         "3:30",
         "2716",
         "7"
        ],
        [
         "44",
         "앨런",
         "남",
         "09월 06일",
         "고릴라",
         "무뚝뚝",
         "9:00",
         "3:30",
         "8859",
         "2"
        ],
        [
         "45",
         "머슬",
         "남",
         "03월 26일",
         "고릴라",
         "운동광",
         "6:30",
         "0:30",
         "1157",
         "5"
        ],
        [
         "46",
         "보이드",
         "남",
         "10월 01일",
         "고릴라",
         "무뚝뚝",
         "9:00",
         "3:30",
         "4328",
         "1"
        ],
        [
         "47",
         "만복이",
         "남",
         "09월 12일",
         "고릴라",
         "운동광",
         "6:30",
         "0:30",
         "6643",
         "6"
        ],
        [
         "48",
         "우락",
         "남",
         "10월 18일",
         "고릴라",
         "먹보",
         "8:00",
         "23:00",
         "3035",
         "4"
        ],
        [
         "49",
         "스나일",
         "남",
         "12월 05일",
         "고릴라",
         "느끼함",
         "7:00",
         "2:00",
         "6384",
         "6"
        ]
       ],
       "shape": {
        "columns": 9,
        "rows": 413
       }
      },
      "text/html": [
       "<div>\n",
       "<style scoped>\n",
       "    .dataframe tbody tr th:only-of-type {\n",
       "        vertical-align: middle;\n",
       "    }\n",
       "\n",
       "    .dataframe tbody tr th {\n",
       "        vertical-align: top;\n",
       "    }\n",
       "\n",
       "    .dataframe thead th {\n",
       "        text-align: right;\n",
       "    }\n",
       "</style>\n",
       "<table border=\"1\" class=\"dataframe\">\n",
       "  <thead>\n",
       "    <tr style=\"text-align: right;\">\n",
       "      <th></th>\n",
       "      <th>이름</th>\n",
       "      <th>성별</th>\n",
       "      <th>생일</th>\n",
       "      <th>종류</th>\n",
       "      <th>성격</th>\n",
       "      <th>일어나는 시각</th>\n",
       "      <th>잠드는 시각</th>\n",
       "      <th>자금</th>\n",
       "      <th>가구 수</th>\n",
       "    </tr>\n",
       "  </thead>\n",
       "  <tbody>\n",
       "    <tr>\n",
       "      <th>0</th>\n",
       "      <td>럭키</td>\n",
       "      <td>남</td>\n",
       "      <td>11월 04일</td>\n",
       "      <td>개</td>\n",
       "      <td>먹보</td>\n",
       "      <td>8:00</td>\n",
       "      <td>23:00</td>\n",
       "      <td>5575</td>\n",
       "      <td>2</td>\n",
       "    </tr>\n",
       "    <tr>\n",
       "      <th>1</th>\n",
       "      <td>로빈</td>\n",
       "      <td>남</td>\n",
       "      <td>05월 13일</td>\n",
       "      <td>개</td>\n",
       "      <td>먹보</td>\n",
       "      <td>8:00</td>\n",
       "      <td>23:00</td>\n",
       "      <td>2703</td>\n",
       "      <td>5</td>\n",
       "    </tr>\n",
       "    <tr>\n",
       "      <th>2</th>\n",
       "      <td>존</td>\n",
       "      <td>남</td>\n",
       "      <td>11월 01일</td>\n",
       "      <td>개</td>\n",
       "      <td>무뚝뚝</td>\n",
       "      <td>9:00</td>\n",
       "      <td>3:30</td>\n",
       "      <td>9850</td>\n",
       "      <td>1</td>\n",
       "    </tr>\n",
       "    <tr>\n",
       "      <th>3</th>\n",
       "      <td>토미</td>\n",
       "      <td>남</td>\n",
       "      <td>08월 04일</td>\n",
       "      <td>개</td>\n",
       "      <td>먹보</td>\n",
       "      <td>8:00</td>\n",
       "      <td>23:00</td>\n",
       "      <td>3665</td>\n",
       "      <td>2</td>\n",
       "    </tr>\n",
       "    <tr>\n",
       "      <th>4</th>\n",
       "      <td>벤</td>\n",
       "      <td>남</td>\n",
       "      <td>06월 10일</td>\n",
       "      <td>개</td>\n",
       "      <td>먹보</td>\n",
       "      <td>8:00</td>\n",
       "      <td>23:00</td>\n",
       "      <td>6994</td>\n",
       "      <td>3</td>\n",
       "    </tr>\n",
       "    <tr>\n",
       "      <th>...</th>\n",
       "      <td>...</td>\n",
       "      <td>...</td>\n",
       "      <td>...</td>\n",
       "      <td>...</td>\n",
       "      <td>...</td>\n",
       "      <td>...</td>\n",
       "      <td>...</td>\n",
       "      <td>...</td>\n",
       "      <td>...</td>\n",
       "    </tr>\n",
       "    <tr>\n",
       "      <th>408</th>\n",
       "      <td>고메스</td>\n",
       "      <td>남</td>\n",
       "      <td>08월 26일</td>\n",
       "      <td>호랑이</td>\n",
       "      <td>무뚝뚝/운동광</td>\n",
       "      <td>NaN</td>\n",
       "      <td>NaN</td>\n",
       "      <td>7733</td>\n",
       "      <td>8</td>\n",
       "    </tr>\n",
       "    <tr>\n",
       "      <th>409</th>\n",
       "      <td>범호</td>\n",
       "      <td>남</td>\n",
       "      <td>05월 15일</td>\n",
       "      <td>호랑이</td>\n",
       "      <td>운동광</td>\n",
       "      <td>6:30</td>\n",
       "      <td>0:30</td>\n",
       "      <td>6865</td>\n",
       "      <td>2</td>\n",
       "    </tr>\n",
       "    <tr>\n",
       "      <th>410</th>\n",
       "      <td>루주</td>\n",
       "      <td>여</td>\n",
       "      <td>08월 27일</td>\n",
       "      <td>호랑이</td>\n",
       "      <td>아이돌</td>\n",
       "      <td>7:30</td>\n",
       "      <td>1:30</td>\n",
       "      <td>1658</td>\n",
       "      <td>9</td>\n",
       "    </tr>\n",
       "    <tr>\n",
       "      <th>411</th>\n",
       "      <td>백희</td>\n",
       "      <td>여</td>\n",
       "      <td>12월 13일</td>\n",
       "      <td>호랑이</td>\n",
       "      <td>아이돌</td>\n",
       "      <td>7:30</td>\n",
       "      <td>1:30</td>\n",
       "      <td>5056</td>\n",
       "      <td>9</td>\n",
       "    </tr>\n",
       "    <tr>\n",
       "      <th>412</th>\n",
       "      <td>신디</td>\n",
       "      <td>여</td>\n",
       "      <td>11월 22일</td>\n",
       "      <td>호랑이</td>\n",
       "      <td>성숙함</td>\n",
       "      <td>8:30</td>\n",
       "      <td>2:30</td>\n",
       "      <td>3784</td>\n",
       "      <td>8</td>\n",
       "    </tr>\n",
       "  </tbody>\n",
       "</table>\n",
       "<p>413 rows × 9 columns</p>\n",
       "</div>"
      ],
      "text/plain": [
       "      이름 성별       생일   종류       성격 일어나는 시각 잠드는 시각    자금  가구 수\n",
       "0     럭키  남  11월 04일    개       먹보    8:00  23:00  5575     2\n",
       "1     로빈  남  05월 13일    개       먹보    8:00  23:00  2703     5\n",
       "2      존  남  11월 01일    개      무뚝뚝    9:00   3:30  9850     1\n",
       "3     토미  남  08월 04일    개       먹보    8:00  23:00  3665     2\n",
       "4      벤  남  06월 10일    개       먹보    8:00  23:00  6994     3\n",
       "..   ... ..      ...  ...      ...     ...    ...   ...   ...\n",
       "408  고메스  남  08월 26일  호랑이  무뚝뚝/운동광     NaN    NaN  7733     8\n",
       "409   범호  남  05월 15일  호랑이      운동광    6:30   0:30  6865     2\n",
       "410   루주  여  08월 27일  호랑이      아이돌    7:30   1:30  1658     9\n",
       "411   백희  여  12월 13일  호랑이      아이돌    7:30   1:30  5056     9\n",
       "412   신디  여  11월 22일  호랑이      성숙함    8:30   2:30  3784     8\n",
       "\n",
       "[413 rows x 9 columns]"
      ]
     },
     "execution_count": 33,
     "metadata": {},
     "output_type": "execute_result"
    }
   ],
   "source": [
    "# ⚠️ 컴퓨터에서 바로 실행한다면 이 코드로 실행하세요. read_csv(<파일 경로>)로 넣으면 됩니다.\n",
    "df = pd.read_csv('/Users/chungheelee/Downloads/villagers.csv')\n",
    "\n",
    "print(type(df))\n",
    "df"
   ]
  },
  {
   "cell_type": "code",
   "execution_count": null,
   "id": "219a6821",
   "metadata": {},
   "outputs": [],
   "source": [
    "# ⚠️ Colab 상에서 실행한다면 이 블럭을 실행하고, 첨부파일로 직접 villagers.csv 파일을 업로드하세요.\n",
    "from google.colab import files\n",
    "df = files.upload()\n",
    "\n",
    "print(type(df))\n",
    "df"
   ]
  },
  {
   "cell_type": "markdown",
   "id": "80891636",
   "metadata": {},
   "source": [
    "### 1. 기본 정보 확인"
   ]
  },
  {
   "cell_type": "code",
   "execution_count": null,
   "id": "158d8c3c",
   "metadata": {},
   "outputs": [
    {
     "name": "stdout",
     "output_type": "stream",
     "text": [
      "상위 5개 데이터 : \n",
      "    이름 성별       생일 종류   성격 일어나는 시각 잠드는 시각    자금  가구 수\n",
      "0  럭키  남  11월 04일  개   먹보    8:00  23:00  5575     2\n",
      "1  로빈  남  05월 13일  개   먹보    8:00  23:00  2703     5\n",
      "2   존  남  11월 01일  개  무뚝뚝    9:00   3:30  9850     1\n",
      "3  토미  남  08월 04일  개   먹보    8:00  23:00  3665     2\n",
      "4   벤  남  06월 10일  개   먹보    8:00  23:00  6994     3\n",
      "==============================\n",
      "하위 7개 데이터 : \n",
      "       이름 성별       생일   종류       성격 일어나는 시각 잠드는 시각    자금  가구 수\n",
      "406  호랭이  남  08월 22일  호랑이      무뚝뚝    9:00   3:30  8000     2\n",
      "407  티볼트  남  08월 19일  호랑이      운동광    6:30   0:30  1361     1\n",
      "408  고메스  남  08월 26일  호랑이  무뚝뚝/운동광     NaN    NaN  7733     8\n",
      "409   범호  남  05월 15일  호랑이      운동광    6:30   0:30  6865     2\n",
      "410   루주  여  08월 27일  호랑이      아이돌    7:30   1:30  1658     9\n",
      "411   백희  여  12월 13일  호랑이      아이돌    7:30   1:30  5056     9\n",
      "412   신디  여  11월 22일  호랑이      성숙함    8:30   2:30  3784     8\n",
      "==============================\n",
      "주민 데이터 크기 :  (413, 9)\n",
      "주민 정보 종류 :  Index(['이름', '성별', '생일', '종류', '성격', '일어나는 시각', '잠드는 시각', '자금', '가구 수'], dtype='object')\n",
      "정보 별 자료형 : \n",
      " 이름         object\n",
      "성별         object\n",
      "생일         object\n",
      "종류         object\n",
      "성격         object\n",
      "일어나는 시각    object\n",
      "잠드는 시각     object\n",
      "자금          int64\n",
      "가구 수        int64\n",
      "dtype: object\n",
      "<class 'pandas.core.frame.DataFrame'>\n",
      "RangeIndex: 413 entries, 0 to 412\n",
      "Data columns (total 9 columns):\n",
      " #   Column   Non-Null Count  Dtype \n",
      "---  ------   --------------  ----- \n",
      " 0   이름       413 non-null    object\n",
      " 1   성별       413 non-null    object\n",
      " 2   생일       413 non-null    object\n",
      " 3   종류       413 non-null    object\n",
      " 4   성격       413 non-null    object\n",
      " 5   일어나는 시각  395 non-null    object\n",
      " 6   잠드는 시각   395 non-null    object\n",
      " 7   자금       413 non-null    int64 \n",
      " 8   가구 수     413 non-null    int64 \n",
      "dtypes: int64(2), object(7)\n",
      "memory usage: 29.2+ KB\n",
      "전체 정보 : \n",
      " None\n"
     ]
    }
   ],
   "source": [
    "# 데이터의 위에서 N개, 아래에서 N개만 확인할 때\n",
    "print(\"상위 5개 데이터 : \\n\", df.head())\n",
    "print(\"하위 7개 데이터 : \\n\", df.tail(7))\n",
    "\n",
    "# Numpy처럼 shape을 쓰면 행과 열 개수 확인 가능\n",
    "print(\"주민 데이터 크기 : \", df.shape)\n",
    "\n",
    "# Column (속성)에 무엇이 있었는지만 확인\n",
    "print(\"주민 정보 종류 : \", df.columns)\n",
    "\n",
    "# Column별 자료형 확인\n",
    "print(\"정보 별 자료형 : \\n\", df.dtypes)\n",
    "\n",
    "# 전체 DataFrame의 정보\n",
    "print(\"전체 정보 : \\n\", df.info())"
   ]
  },
  {
   "cell_type": "markdown",
   "id": "06c22372",
   "metadata": {},
   "source": [
    "### 2. 데이터 추출"
   ]
  },
  {
   "cell_type": "code",
   "execution_count": 44,
   "id": "3b26f4dc",
   "metadata": {},
   "outputs": [
    {
     "data": {
      "application/vnd.microsoft.datawrangler.viewer.v0+json": {
       "columns": [
        {
         "name": "index",
         "rawType": "int64",
         "type": "integer"
        },
        {
         "name": "생일",
         "rawType": "object",
         "type": "string"
        }
       ],
       "ref": "63658536-808e-4094-92c0-2289d0a7000f",
       "rows": [
        [
         "0",
         "11월 04일"
        ],
        [
         "1",
         "05월 13일"
        ],
        [
         "2",
         "11월 01일"
        ],
        [
         "3",
         "08월 04일"
        ],
        [
         "4",
         "06월 10일"
        ]
       ],
       "shape": {
        "columns": 1,
        "rows": 5
       }
      },
      "text/plain": [
       "0    11월 04일\n",
       "1    05월 13일\n",
       "2    11월 01일\n",
       "3    08월 04일\n",
       "4    06월 10일\n",
       "Name: 생일, dtype: object"
      ]
     },
     "execution_count": 44,
     "metadata": {},
     "output_type": "execute_result"
    }
   ],
   "source": [
    "# 특정 열 추출 (여러 개를 추출할때는 괄호 두 번 써주세요)\n",
    "bday = df['생일']\n",
    "bday.head()"
   ]
  },
  {
   "cell_type": "code",
   "execution_count": 45,
   "id": "f8dba9b2",
   "metadata": {},
   "outputs": [
    {
     "data": {
      "application/vnd.microsoft.datawrangler.viewer.v0+json": {
       "columns": [
        {
         "name": "index",
         "rawType": "int64",
         "type": "integer"
        },
        {
         "name": "이름",
         "rawType": "object",
         "type": "string"
        },
        {
         "name": "생일",
         "rawType": "object",
         "type": "string"
        }
       ],
       "ref": "3ebcff5a-1cf1-4a70-9b34-f9f8bd805dda",
       "rows": [
        [
         "0",
         "럭키",
         "11월 04일"
        ],
        [
         "1",
         "로빈",
         "05월 13일"
        ],
        [
         "2",
         "존",
         "11월 01일"
        ],
        [
         "3",
         "토미",
         "08월 04일"
        ],
        [
         "4",
         "벤",
         "06월 10일"
        ]
       ],
       "shape": {
        "columns": 2,
        "rows": 5
       }
      },
      "text/html": [
       "<div>\n",
       "<style scoped>\n",
       "    .dataframe tbody tr th:only-of-type {\n",
       "        vertical-align: middle;\n",
       "    }\n",
       "\n",
       "    .dataframe tbody tr th {\n",
       "        vertical-align: top;\n",
       "    }\n",
       "\n",
       "    .dataframe thead th {\n",
       "        text-align: right;\n",
       "    }\n",
       "</style>\n",
       "<table border=\"1\" class=\"dataframe\">\n",
       "  <thead>\n",
       "    <tr style=\"text-align: right;\">\n",
       "      <th></th>\n",
       "      <th>이름</th>\n",
       "      <th>생일</th>\n",
       "    </tr>\n",
       "  </thead>\n",
       "  <tbody>\n",
       "    <tr>\n",
       "      <th>0</th>\n",
       "      <td>럭키</td>\n",
       "      <td>11월 04일</td>\n",
       "    </tr>\n",
       "    <tr>\n",
       "      <th>1</th>\n",
       "      <td>로빈</td>\n",
       "      <td>05월 13일</td>\n",
       "    </tr>\n",
       "    <tr>\n",
       "      <th>2</th>\n",
       "      <td>존</td>\n",
       "      <td>11월 01일</td>\n",
       "    </tr>\n",
       "    <tr>\n",
       "      <th>3</th>\n",
       "      <td>토미</td>\n",
       "      <td>08월 04일</td>\n",
       "    </tr>\n",
       "    <tr>\n",
       "      <th>4</th>\n",
       "      <td>벤</td>\n",
       "      <td>06월 10일</td>\n",
       "    </tr>\n",
       "  </tbody>\n",
       "</table>\n",
       "</div>"
      ],
      "text/plain": [
       "   이름       생일\n",
       "0  럭키  11월 04일\n",
       "1  로빈  05월 13일\n",
       "2   존  11월 01일\n",
       "3  토미  08월 04일\n",
       "4   벤  06월 10일"
      ]
     },
     "execution_count": 45,
     "metadata": {},
     "output_type": "execute_result"
    }
   ],
   "source": [
    "# 다중 열 추출 (여러 개를 추출할때는 괄호 두 번 써주세요)\n",
    "name_and_bday = df[['이름', '생일']]\n",
    "name_and_bday.head()"
   ]
  },
  {
   "cell_type": "code",
   "execution_count": null,
   "id": "ed2dd296",
   "metadata": {},
   "outputs": [
    {
     "data": {
      "application/vnd.microsoft.datawrangler.viewer.v0+json": {
       "columns": [
        {
         "name": "index",
         "rawType": "object",
         "type": "string"
        },
        {
         "name": "405",
         "rawType": "object",
         "type": "unknown"
        }
       ],
       "ref": "ff97a0ef-2d6f-4415-bb43-28185229f1b4",
       "rows": [
        [
         "이름",
         "애플"
        ],
        [
         "성별",
         "여"
        ],
        [
         "생일",
         "09월 24일"
        ],
        [
         "종류",
         "햄스터"
        ],
        [
         "성격",
         "아이돌"
        ],
        [
         "일어나는 시각",
         "7:30"
        ],
        [
         "잠드는 시각",
         "1:30"
        ],
        [
         "자금",
         "7390"
        ],
        [
         "가구 수",
         "10"
        ]
       ],
       "shape": {
        "columns": 1,
        "rows": 9
       }
      },
      "text/plain": [
       "이름              애플\n",
       "성별               여\n",
       "생일         09월 24일\n",
       "종류             햄스터\n",
       "성격             아이돌\n",
       "일어나는 시각       7:30\n",
       "잠드는 시각        1:30\n",
       "자금            7390\n",
       "가구 수            10\n",
       "Name: 405, dtype: object"
      ]
     },
     "execution_count": 46,
     "metadata": {},
     "output_type": "execute_result"
    }
   ],
   "source": [
    "# 특정 행 추출 (위에서부터 N번째 주민의 정보를 알고 싶을 때)\n",
    "apple = df.loc[405]     # 위의 방법은 열을 추출했다면, 이 방법은 405번째 줄의 정보를 가져옴\n",
    "apple"
   ]
  },
  {
   "cell_type": "code",
   "execution_count": 48,
   "id": "0518b62f",
   "metadata": {},
   "outputs": [
    {
     "data": {
      "application/vnd.microsoft.datawrangler.viewer.v0+json": {
       "columns": [
        {
         "name": "index",
         "rawType": "int64",
         "type": "integer"
        },
        {
         "name": "이름",
         "rawType": "object",
         "type": "string"
        },
        {
         "name": "성별",
         "rawType": "object",
         "type": "string"
        },
        {
         "name": "생일",
         "rawType": "object",
         "type": "string"
        },
        {
         "name": "종류",
         "rawType": "object",
         "type": "string"
        },
        {
         "name": "성격",
         "rawType": "object",
         "type": "string"
        },
        {
         "name": "일어나는 시각",
         "rawType": "object",
         "type": "string"
        },
        {
         "name": "잠드는 시각",
         "rawType": "object",
         "type": "string"
        },
        {
         "name": "자금",
         "rawType": "int64",
         "type": "integer"
        },
        {
         "name": "가구 수",
         "rawType": "int64",
         "type": "integer"
        }
       ],
       "ref": "e7ac1412-831a-4bd1-b108-61688438051e",
       "rows": [
        [
         "61",
         "잭슨",
         "남",
         "10월 01일",
         "고양이",
         "느끼함",
         "7:00",
         "2:00",
         "1967",
         "1"
        ],
        [
         "122",
         "쭈니",
         "남",
         "09월 29일",
         "다람쥐",
         "느끼함",
         "7:00",
         "2:00",
         "9546",
         "8"
        ],
        [
         "405",
         "애플",
         "여",
         "09월 24일",
         "햄스터",
         "아이돌",
         "7:30",
         "1:30",
         "7390",
         "10"
        ]
       ],
       "shape": {
        "columns": 9,
        "rows": 3
       }
      },
      "text/html": [
       "<div>\n",
       "<style scoped>\n",
       "    .dataframe tbody tr th:only-of-type {\n",
       "        vertical-align: middle;\n",
       "    }\n",
       "\n",
       "    .dataframe tbody tr th {\n",
       "        vertical-align: top;\n",
       "    }\n",
       "\n",
       "    .dataframe thead th {\n",
       "        text-align: right;\n",
       "    }\n",
       "</style>\n",
       "<table border=\"1\" class=\"dataframe\">\n",
       "  <thead>\n",
       "    <tr style=\"text-align: right;\">\n",
       "      <th></th>\n",
       "      <th>이름</th>\n",
       "      <th>성별</th>\n",
       "      <th>생일</th>\n",
       "      <th>종류</th>\n",
       "      <th>성격</th>\n",
       "      <th>일어나는 시각</th>\n",
       "      <th>잠드는 시각</th>\n",
       "      <th>자금</th>\n",
       "      <th>가구 수</th>\n",
       "    </tr>\n",
       "  </thead>\n",
       "  <tbody>\n",
       "    <tr>\n",
       "      <th>61</th>\n",
       "      <td>잭슨</td>\n",
       "      <td>남</td>\n",
       "      <td>10월 01일</td>\n",
       "      <td>고양이</td>\n",
       "      <td>느끼함</td>\n",
       "      <td>7:00</td>\n",
       "      <td>2:00</td>\n",
       "      <td>1967</td>\n",
       "      <td>1</td>\n",
       "    </tr>\n",
       "    <tr>\n",
       "      <th>122</th>\n",
       "      <td>쭈니</td>\n",
       "      <td>남</td>\n",
       "      <td>09월 29일</td>\n",
       "      <td>다람쥐</td>\n",
       "      <td>느끼함</td>\n",
       "      <td>7:00</td>\n",
       "      <td>2:00</td>\n",
       "      <td>9546</td>\n",
       "      <td>8</td>\n",
       "    </tr>\n",
       "    <tr>\n",
       "      <th>405</th>\n",
       "      <td>애플</td>\n",
       "      <td>여</td>\n",
       "      <td>09월 24일</td>\n",
       "      <td>햄스터</td>\n",
       "      <td>아이돌</td>\n",
       "      <td>7:30</td>\n",
       "      <td>1:30</td>\n",
       "      <td>7390</td>\n",
       "      <td>10</td>\n",
       "    </tr>\n",
       "  </tbody>\n",
       "</table>\n",
       "</div>"
      ],
      "text/plain": [
       "     이름 성별       생일   종류   성격 일어나는 시각 잠드는 시각    자금  가구 수\n",
       "61   잭슨  남  10월 01일  고양이  느끼함    7:00   2:00  1967     1\n",
       "122  쭈니  남  09월 29일  다람쥐  느끼함    7:00   2:00  9546     8\n",
       "405  애플  여  09월 24일  햄스터  아이돌    7:30   1:30  7390    10"
      ]
     },
     "execution_count": 48,
     "metadata": {},
     "output_type": "execute_result"
    }
   ],
   "source": [
    "# 여러 행 추출도 괄호 두번 사용\n",
    "animals = df.loc[[61, 122, 405]]\n",
    "animals"
   ]
  },
  {
   "cell_type": "markdown",
   "id": "09a49a6f",
   "metadata": {},
   "source": [
    "### 3. 데이터 그룹화 및 통계"
   ]
  },
  {
   "cell_type": "code",
   "execution_count": 67,
   "id": "ffcf1b96",
   "metadata": {},
   "outputs": [
    {
     "data": {
      "application/vnd.microsoft.datawrangler.viewer.v0+json": {
       "columns": [
        {
         "name": "성별",
         "rawType": "object",
         "type": "string"
        },
        {
         "name": "자금",
         "rawType": "float64",
         "type": "float"
        }
       ],
       "ref": "f26b4206-ea10-48c2-a78e-4163206d7d43",
       "rows": [
        [
         "(없음)",
         "3756.8571428571427"
        ],
        [
         "남",
         "5931.971014492754"
        ],
        [
         "여",
         "5198.633165829146"
        ]
       ],
       "shape": {
        "columns": 1,
        "rows": 3
       }
      },
      "text/plain": [
       "성별\n",
       "(없음)    3756.857143\n",
       "남       5931.971014\n",
       "여       5198.633166\n",
       "Name: 자금, dtype: float64"
      ]
     },
     "execution_count": 67,
     "metadata": {},
     "output_type": "execute_result"
    }
   ],
   "source": [
    "# 만약 남자, 여자 주민의 가진 돈의 평균을 알고 싶다면?\n",
    "# 먼저 성별로 '주민'을 그룹으로 나누고, 그 안에서 '자금' 열을 골라, '평균'을 계산해볼까요?\n",
    "\n",
    "df.groupby('성별')['자금'].mean()               # mean은 자금의 평균값을 계산"
   ]
  },
  {
   "cell_type": "code",
   "execution_count": null,
   "id": "17b9ba8e",
   "metadata": {},
   "outputs": [],
   "source": [
    "# 각종 통계량을 계산하는 유용한 함수\n",
    "print(df['자금'].min())     # 최소값\n",
    "print(df['자금'].max())     # 최대값\n",
    "print(df['자금'].sum())     # 합계\n",
    "print(df['자금'].mean())    # 평균\n",
    "print(df['자금'].var())     # 분산\n",
    "print(df['자금'].std())     # 표준편차\n",
    "print(df['자금'].count())   # 개수 세기\n",
    "print(df['자금'].median())  # 중앙값 (오름차순으로 했을 때 정중앙의 값)\n",
    "print(df['자금'].mode())    # 최빈값 (가장 자주 나타난 값)"
   ]
  },
  {
   "cell_type": "markdown",
   "id": "b0bcbc82",
   "metadata": {},
   "source": [
    "## 👀 연습문제"
   ]
  },
  {
   "cell_type": "markdown",
   "id": "f3b58664",
   "metadata": {},
   "source": [
    "### 문제 1. NumPy 기초\n",
    "1. `arange`, `linspace`을 이용해 1부터 10까지 들어있는 배열을 만들어보세요.\n",
    "2. 이 배열의 합(`sum`)과 평균(`mean`)을 구해보세요.\n",
    "3. 모든 원소가 0으로 채워진 3*3 배열을 만들어보세요.\n",
    "4. `np.random.random()`을 이용해 5*3 크기의 난수 행렬을 만들고, 그 중 첫 번째 열만 출력해보세요."
   ]
  },
  {
   "cell_type": "code",
   "execution_count": null,
   "id": "01109944",
   "metadata": {},
   "outputs": [],
   "source": []
  },
  {
   "cell_type": "markdown",
   "id": "67f2f092",
   "metadata": {},
   "source": [
    "### 문제 2. Pandas 기초 (villagers.csv 파일 로드)\n",
    "1. 365번 주민의 정보를 pandas로 구해보세요.\n",
    "2. 동물의 숲 주민 중 가장 많은 유형의 '성격'은 무엇일까요?\n",
    "3. 동물의 숲 주민의 동물 '종류'별로 자금의 중앙값을 알고 싶어요. 어떻게 하면 될까요?"
   ]
  },
  {
   "cell_type": "code",
   "execution_count": null,
   "id": "62a8374c",
   "metadata": {},
   "outputs": [],
   "source": []
  }
 ],
 "metadata": {
  "kernelspec": {
   "display_name": "base",
   "language": "python",
   "name": "python3"
  },
  "language_info": {
   "codemirror_mode": {
    "name": "ipython",
    "version": 3
   },
   "file_extension": ".py",
   "mimetype": "text/x-python",
   "name": "python",
   "nbconvert_exporter": "python",
   "pygments_lexer": "ipython3",
   "version": "3.12.7"
  }
 },
 "nbformat": 4,
 "nbformat_minor": 5
}
